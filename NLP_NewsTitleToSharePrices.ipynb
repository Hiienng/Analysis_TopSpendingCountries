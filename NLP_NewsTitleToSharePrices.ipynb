{
 "cells": [
  {
   "attachments": {},
   "cell_type": "markdown",
   "metadata": {},
   "source": [
    "## NLP: Sentiment Analysis on the relation between News title and Share Prices\n",
    "\n",
    "Objective: This project studies relation between stock price and news titles with the trend of Inc. Meta's share price and related news on internet at the same time.\n",
    "\n",
    "Data source: \n",
    "\n",
    "Implementation steps:\n",
    "1. Prepocessing data\n",
    "2. Training data & Evaluation\n",
    "- Utilize the nltk library's NaiveBayesClassifier to classify titles as positive or negative.\n",
    "- Compare the label proportion with the historical shares prices change of the company during the same period\n",
    "- Explore the correlation between the positive rate and the stock prices.\n",
    "3. Finding"
   ]
  },
  {
   "cell_type": "markdown",
   "metadata": {},
   "source": []
  },
  {
   "cell_type": "code",
   "execution_count": 1,
   "metadata": {},
   "outputs": [],
   "source": [
    "import nltk\n",
    "import string\n",
    "import pandas as pd\n",
    "\n",
    "from nltk import NaiveBayesClassifier\n",
    "from nltk.corpus import stopwords\n",
    "import ipywidgets as widgets\n",
    "from ipywidgets import interact_manual\n",
    "import plotly.express as px"
   ]
  },
  {
   "cell_type": "code",
   "execution_count": 2,
   "metadata": {},
   "outputs": [],
   "source": [
    "word_apple = ['Apple', 'iPhone', 'iPad' , 'MacBook', 'iMac', 'iOS', 'macOS'\n",
    "              , 'App Store ','iTunes', 'iCloud', 'AirPods', 'HomePod', 'Siri', 'Tim Cook', 'Steve Jobs']\n",
    "word_mcs = ['Microsoft', 'Windows', 'Office', 'Azure', 'Xbox', 'Surface', 'Outlook',\n",
    "            'Excel', 'Word', 'PowerPoint', 'Visual Studio', 'SQL Server', \n",
    "            'SharePoint', 'OneDrive','Azure', 'MSN', 'Bill Gates']\n",
    "word_meta = ['Meta', 'Facebook', 'Instagram', 'WhatsApp', 'Oculus', \n",
    "             'Virtual Reality', 'VR', 'Augmented Reality', 'AR', 'Messenger',\n",
    "             'Mark Zuckerberg', 'Sheryl Sandberg', 'Andrew Bosworth',\n",
    "             'Mike Schroepfer','Chris Cox', 'David Wehner', 'Javier Olivan',\n",
    "             'Adam Mosseri','Naomi Gleit', 'Fidji Simo']"
   ]
  },
  {
   "cell_type": "code",
   "execution_count": 5,
   "metadata": {},
   "outputs": [
    {
     "data": {
      "text/html": [
       "<div>\n",
       "<style scoped>\n",
       "    .dataframe tbody tr th:only-of-type {\n",
       "        vertical-align: middle;\n",
       "    }\n",
       "\n",
       "    .dataframe tbody tr th {\n",
       "        vertical-align: top;\n",
       "    }\n",
       "\n",
       "    .dataframe thead th {\n",
       "        text-align: right;\n",
       "    }\n",
       "</style>\n",
       "<table border=\"1\" class=\"dataframe\">\n",
       "  <thead>\n",
       "    <tr style=\"text-align: right;\">\n",
       "      <th></th>\n",
       "      <th>Title</th>\n",
       "      <th>Sign</th>\n",
       "      <th>Date</th>\n",
       "      <th>Company</th>\n",
       "    </tr>\n",
       "  </thead>\n",
       "  <tbody>\n",
       "    <tr>\n",
       "      <th>883</th>\n",
       "      <td>WhatsApp bans over 23 lakh Indian accounts in ...</td>\n",
       "      <td>Negative</td>\n",
       "      <td>2022-10-01</td>\n",
       "      <td>Meta Inc.</td>\n",
       "    </tr>\n",
       "    <tr>\n",
       "      <th>884</th>\n",
       "      <td>How banks can -1otiate the US and European san...</td>\n",
       "      <td>Negative</td>\n",
       "      <td>2022-10-01</td>\n",
       "      <td>None</td>\n",
       "    </tr>\n",
       "    <tr>\n",
       "      <th>885</th>\n",
       "      <td>Recession fears hit Big Tech firms as Facebook...</td>\n",
       "      <td>Negative</td>\n",
       "      <td>2022-10-01</td>\n",
       "      <td>Meta Inc.</td>\n",
       "    </tr>\n",
       "    <tr>\n",
       "      <th>886</th>\n",
       "      <td>Indian Army bets on hire-to-retire platform Zi...</td>\n",
       "      <td>Positive</td>\n",
       "      <td>2022-10-02</td>\n",
       "      <td>None</td>\n",
       "    </tr>\n",
       "    <tr>\n",
       "      <th>887</th>\n",
       "      <td>People still don't know what metaverse is all ...</td>\n",
       "      <td>Negative</td>\n",
       "      <td>2022-10-02</td>\n",
       "      <td>Apple Inc.</td>\n",
       "    </tr>\n",
       "    <tr>\n",
       "      <th>...</th>\n",
       "      <td>...</td>\n",
       "      <td>...</td>\n",
       "      <td>...</td>\n",
       "      <td>...</td>\n",
       "    </tr>\n",
       "    <tr>\n",
       "      <th>1049</th>\n",
       "      <td>Blurring lines between sci-fi and reality: why...</td>\n",
       "      <td>Negative</td>\n",
       "      <td>2022-10-30</td>\n",
       "      <td>None</td>\n",
       "    </tr>\n",
       "    <tr>\n",
       "      <th>1050</th>\n",
       "      <td>Honeywell appoints Microsoft's Rajesh Rege as ...</td>\n",
       "      <td>Negative</td>\n",
       "      <td>2022-10-30</td>\n",
       "      <td>Microsoft Inc.</td>\n",
       "    </tr>\n",
       "    <tr>\n",
       "      <th>1051</th>\n",
       "      <td>CBI seeks metadata of 'Yogi' email from Micros...</td>\n",
       "      <td>Negative</td>\n",
       "      <td>2022-10-30</td>\n",
       "      <td>Microsoft Inc.</td>\n",
       "    </tr>\n",
       "    <tr>\n",
       "      <th>1052</th>\n",
       "      <td>Workers walk out of iPhone factory, highlighti...</td>\n",
       "      <td>Negative</td>\n",
       "      <td>2022-10-31</td>\n",
       "      <td>Apple Inc.</td>\n",
       "    </tr>\n",
       "    <tr>\n",
       "      <th>1053</th>\n",
       "      <td>Enablers for inclusive growth with Microsoft’s...</td>\n",
       "      <td>Positive</td>\n",
       "      <td>2022-10-31</td>\n",
       "      <td>Microsoft Inc.</td>\n",
       "    </tr>\n",
       "  </tbody>\n",
       "</table>\n",
       "<p>171 rows × 4 columns</p>\n",
       "</div>"
      ],
      "text/plain": [
       "                                                  Title      Sign       Date   \n",
       "883   WhatsApp bans over 23 lakh Indian accounts in ...  Negative 2022-10-01  \\\n",
       "884   How banks can -1otiate the US and European san...  Negative 2022-10-01   \n",
       "885   Recession fears hit Big Tech firms as Facebook...  Negative 2022-10-01   \n",
       "886   Indian Army bets on hire-to-retire platform Zi...  Positive 2022-10-02   \n",
       "887   People still don't know what metaverse is all ...  Negative 2022-10-02   \n",
       "...                                                 ...       ...        ...   \n",
       "1049  Blurring lines between sci-fi and reality: why...  Negative 2022-10-30   \n",
       "1050  Honeywell appoints Microsoft's Rajesh Rege as ...  Negative 2022-10-30   \n",
       "1051  CBI seeks metadata of 'Yogi' email from Micros...  Negative 2022-10-30   \n",
       "1052  Workers walk out of iPhone factory, highlighti...  Negative 2022-10-31   \n",
       "1053  Enablers for inclusive growth with Microsoft’s...  Positive 2022-10-31   \n",
       "\n",
       "             Company  \n",
       "883        Meta Inc.  \n",
       "884             None  \n",
       "885        Meta Inc.  \n",
       "886             None  \n",
       "887       Apple Inc.  \n",
       "...              ...  \n",
       "1049            None  \n",
       "1050  Microsoft Inc.  \n",
       "1051  Microsoft Inc.  \n",
       "1052      Apple Inc.  \n",
       "1053  Microsoft Inc.  \n",
       "\n",
       "[171 rows x 4 columns]"
      ]
     },
     "execution_count": 5,
     "metadata": {},
     "output_type": "execute_result"
    }
   ],
   "source": [
    "all_df = pd.read_excel('/Users/nguyenhien/Desktop/OneDrive/2. Learning/2.3 Data Science/@python/1. Machine Learning/Project/Lattest/NLP_Newstitles/Train_title_sen_analyst.xlsx')\n",
    "\n",
    "#df_title = all_df\n",
    "df_title = all_df[(all_df['Date'].dt.month == 10) & (all_df['Date'].dt.year == 2022)].iloc[:, [0,1,2]]\n",
    "\n",
    "# 1. Split the data into training and testing sets\n",
    "split = int(len(all_df) * 0.8)\n",
    "my_df_train = all_df.iloc[:split, 0:2]\n",
    "my_df_test = all_df.iloc[split:, 0:2]\n",
    "\n",
    "df_title['Company'] = df_title['Title'].apply(lambda x: 'Meta Inc.' if any(word in x for word in word_meta)\n",
    "                                       else 'Microsoft Inc.' if any(word in x for word in word_mcs)\n",
    "                                       else 'Apple Inc.' if any(word in x for word in word_apple)\n",
    "                                       else None)\n",
    "df_title                                       \n"
   ]
  },
  {
   "cell_type": "code",
   "execution_count": 6,
   "metadata": {},
   "outputs": [
    {
     "data": {
      "text/plain": [
       "(93.56512714063311, 93.56512714063311)"
      ]
     },
     "execution_count": 6,
     "metadata": {},
     "output_type": "execute_result"
    }
   ],
   "source": [
    "# 2. Preprocess the training data\n",
    "stop_words = set(stopwords.words(\"english\") + list(string.punctuation))\n",
    "\n",
    "def preprocess_text(text):\n",
    "    tokens = nltk.word_tokenize(text)\n",
    "    filtered_tokens = [token.lower() for token in tokens if token.lower() not in stop_words]\n",
    "    return filtered_tokens\n",
    "\n",
    "# Tokenize and preprocess the positive, negative, and neutral texts\n",
    "positive_texts = [preprocess_text(text) for text in my_df_train[my_df_train['Sign'] == 'Positive']['Title']]\n",
    "negative_texts = [preprocess_text(text) for text in my_df_train[my_df_train['Sign'] == 'Negative']['Title']]\n",
    "\n",
    "# 3. Build a bag-of-words model\n",
    "def build_bag_of_words_features_filtered(words):\n",
    "    return {word: 1 for word in words}\n",
    "\n",
    "# 4. Build the feature sets\n",
    "positive_features = [(build_bag_of_words_features_filtered(text), 'Positive') for text in positive_texts]\n",
    "negative_features = [(build_bag_of_words_features_filtered(text), 'Negative') for text in negative_texts]\n",
    "\n",
    "# 5. Train the classifier\n",
    "classifier = NaiveBayesClassifier.train(positive_features + negative_features)\n",
    "\n",
    "# 6. Test the accuracy\n",
    "training_accuracy = None\n",
    "training_accuracy = nltk.classify.util.accuracy(classifier, positive_features[:split]+negative_features[:split])*100\n",
    "\n",
    "test_accuracy = None\n",
    "test_accuracy = nltk.classify.util.accuracy(classifier, positive_features[:split]+negative_features[:split])*100\n",
    "\n",
    "test_accuracy, training_accuracy"
   ]
  },
  {
   "attachments": {},
   "cell_type": "markdown",
   "metadata": {},
   "source": [
    "## 2. Apply model and doing sentiment analyst\n",
    "### 2.1 sentiment analyst"
   ]
  },
  {
   "cell_type": "code",
   "execution_count": 7,
   "metadata": {},
   "outputs": [
    {
     "data": {
      "text/html": [
       "<div>\n",
       "<style scoped>\n",
       "    .dataframe tbody tr th:only-of-type {\n",
       "        vertical-align: middle;\n",
       "    }\n",
       "\n",
       "    .dataframe tbody tr th {\n",
       "        vertical-align: top;\n",
       "    }\n",
       "\n",
       "    .dataframe thead th {\n",
       "        text-align: right;\n",
       "    }\n",
       "</style>\n",
       "<table border=\"1\" class=\"dataframe\">\n",
       "  <thead>\n",
       "    <tr style=\"text-align: right;\">\n",
       "      <th></th>\n",
       "      <th>Title</th>\n",
       "      <th>Sign</th>\n",
       "      <th>Date</th>\n",
       "      <th>Company</th>\n",
       "      <th>Label</th>\n",
       "    </tr>\n",
       "  </thead>\n",
       "  <tbody>\n",
       "    <tr>\n",
       "      <th>883</th>\n",
       "      <td>WhatsApp bans over 23 lakh Indian accounts in ...</td>\n",
       "      <td>Negative</td>\n",
       "      <td>2022-10-01</td>\n",
       "      <td>Meta Inc.</td>\n",
       "      <td>Positive</td>\n",
       "    </tr>\n",
       "    <tr>\n",
       "      <th>884</th>\n",
       "      <td>How banks can -1otiate the US and European san...</td>\n",
       "      <td>Negative</td>\n",
       "      <td>2022-10-01</td>\n",
       "      <td>None</td>\n",
       "      <td>Negative</td>\n",
       "    </tr>\n",
       "    <tr>\n",
       "      <th>885</th>\n",
       "      <td>Recession fears hit Big Tech firms as Facebook...</td>\n",
       "      <td>Negative</td>\n",
       "      <td>2022-10-01</td>\n",
       "      <td>Meta Inc.</td>\n",
       "      <td>Negative</td>\n",
       "    </tr>\n",
       "    <tr>\n",
       "      <th>886</th>\n",
       "      <td>Indian Army bets on hire-to-retire platform Zi...</td>\n",
       "      <td>Positive</td>\n",
       "      <td>2022-10-02</td>\n",
       "      <td>None</td>\n",
       "      <td>Positive</td>\n",
       "    </tr>\n",
       "    <tr>\n",
       "      <th>887</th>\n",
       "      <td>People still don't know what metaverse is all ...</td>\n",
       "      <td>Negative</td>\n",
       "      <td>2022-10-02</td>\n",
       "      <td>Apple Inc.</td>\n",
       "      <td>Negative</td>\n",
       "    </tr>\n",
       "    <tr>\n",
       "      <th>...</th>\n",
       "      <td>...</td>\n",
       "      <td>...</td>\n",
       "      <td>...</td>\n",
       "      <td>...</td>\n",
       "      <td>...</td>\n",
       "    </tr>\n",
       "    <tr>\n",
       "      <th>1049</th>\n",
       "      <td>Blurring lines between sci-fi and reality: why...</td>\n",
       "      <td>Negative</td>\n",
       "      <td>2022-10-30</td>\n",
       "      <td>None</td>\n",
       "      <td>Negative</td>\n",
       "    </tr>\n",
       "    <tr>\n",
       "      <th>1050</th>\n",
       "      <td>Honeywell appoints Microsoft's Rajesh Rege as ...</td>\n",
       "      <td>Negative</td>\n",
       "      <td>2022-10-30</td>\n",
       "      <td>Microsoft Inc.</td>\n",
       "      <td>Positive</td>\n",
       "    </tr>\n",
       "    <tr>\n",
       "      <th>1051</th>\n",
       "      <td>CBI seeks metadata of 'Yogi' email from Micros...</td>\n",
       "      <td>Negative</td>\n",
       "      <td>2022-10-30</td>\n",
       "      <td>Microsoft Inc.</td>\n",
       "      <td>Negative</td>\n",
       "    </tr>\n",
       "    <tr>\n",
       "      <th>1052</th>\n",
       "      <td>Workers walk out of iPhone factory, highlighti...</td>\n",
       "      <td>Negative</td>\n",
       "      <td>2022-10-31</td>\n",
       "      <td>Apple Inc.</td>\n",
       "      <td>Negative</td>\n",
       "    </tr>\n",
       "    <tr>\n",
       "      <th>1053</th>\n",
       "      <td>Enablers for inclusive growth with Microsoft’s...</td>\n",
       "      <td>Positive</td>\n",
       "      <td>2022-10-31</td>\n",
       "      <td>Microsoft Inc.</td>\n",
       "      <td>Negative</td>\n",
       "    </tr>\n",
       "  </tbody>\n",
       "</table>\n",
       "<p>171 rows × 5 columns</p>\n",
       "</div>"
      ],
      "text/plain": [
       "                                                  Title      Sign       Date   \n",
       "883   WhatsApp bans over 23 lakh Indian accounts in ...  Negative 2022-10-01  \\\n",
       "884   How banks can -1otiate the US and European san...  Negative 2022-10-01   \n",
       "885   Recession fears hit Big Tech firms as Facebook...  Negative 2022-10-01   \n",
       "886   Indian Army bets on hire-to-retire platform Zi...  Positive 2022-10-02   \n",
       "887   People still don't know what metaverse is all ...  Negative 2022-10-02   \n",
       "...                                                 ...       ...        ...   \n",
       "1049  Blurring lines between sci-fi and reality: why...  Negative 2022-10-30   \n",
       "1050  Honeywell appoints Microsoft's Rajesh Rege as ...  Negative 2022-10-30   \n",
       "1051  CBI seeks metadata of 'Yogi' email from Micros...  Negative 2022-10-30   \n",
       "1052  Workers walk out of iPhone factory, highlighti...  Negative 2022-10-31   \n",
       "1053  Enablers for inclusive growth with Microsoft’s...  Positive 2022-10-31   \n",
       "\n",
       "             Company     Label  \n",
       "883        Meta Inc.  Positive  \n",
       "884             None  Negative  \n",
       "885        Meta Inc.  Negative  \n",
       "886             None  Positive  \n",
       "887       Apple Inc.  Negative  \n",
       "...              ...       ...  \n",
       "1049            None  Negative  \n",
       "1050  Microsoft Inc.  Positive  \n",
       "1051  Microsoft Inc.  Negative  \n",
       "1052      Apple Inc.  Negative  \n",
       "1053  Microsoft Inc.  Negative  \n",
       "\n",
       "[171 rows x 5 columns]"
      ]
     },
     "execution_count": 7,
     "metadata": {},
     "output_type": "execute_result"
    }
   ],
   "source": [
    "# Ánh xạ các dòng văn bản sang nhãn tương ứng và gán vào cột \"Label\"\n",
    "df_title['Label'] = None\n",
    "df_title['Label'] = df_title['Title'].map(lambda x: classifier.classify({word: True for word in nltk.word_tokenize(x)}))\n",
    "\n",
    "df_title\n"
   ]
  },
  {
   "cell_type": "code",
   "execution_count": 8,
   "metadata": {},
   "outputs": [],
   "source": [
    "# Loại bỏ các dòng có giá trị None ở bất kỳ cột nào\n",
    "df_title = df_title.dropna()\n",
    "\n",
    "# Tạo bảng mới với tổng các dòng nhóm bởi  \"Date\", \"Company\"\n",
    "df_short_1 = df_title.groupby([\"Date\", \"Company\"]).size().reset_index(name=\"Sum\")\n",
    "\n",
    "# Tính tỷ trọng của Sign trong ngày và trong cùng công ty\n",
    "df_short_2 = df_title.groupby([\"Sign\", \"Date\", \"Company\"]).size().reset_index(name=\"Percentage\")\n",
    "df_short_2[\"Percentage\"] = (df_short_2[\"Percentage\"] * 100) / df_short_2.groupby([\"Date\", \"Company\"])[\"Percentage\"].transform(\"sum\")\n",
    "\n",
    "df_short_nofilter = df_short_2\n",
    "# Filter Company\n",
    "df_short_2 = df_short_2[df_short_2['Company'] == 'Meta Inc.']\n",
    "df_short_2 = df_short_2.sort_values('Sign', ascending=False)"
   ]
  },
  {
   "cell_type": "code",
   "execution_count": 9,
   "metadata": {},
   "outputs": [
    {
     "data": {
      "application/vnd.plotly.v1+json": {
       "config": {
        "plotlyServerURL": "https://plot.ly"
       },
       "data": [
        {
         "alignmentgroup": "True",
         "hovertemplate": "Sign=Positive<br>Date=%{x}<br>Percentage=%{y}<extra></extra>",
         "legendgroup": "Positive",
         "marker": {
          "color": "#A8C686",
          "pattern": {
           "shape": ""
          }
         },
         "name": "Positive",
         "offsetgroup": "Positive",
         "orientation": "v",
         "showlegend": true,
         "textposition": "auto",
         "type": "bar",
         "x": [
          "2022-10-25T00:00:00",
          "2022-10-20T00:00:00",
          "2022-10-19T00:00:00",
          "2022-10-13T00:00:00",
          "2022-10-12T00:00:00",
          "2022-10-09T00:00:00",
          "2022-10-04T00:00:00"
         ],
         "xaxis": "x",
         "y": [
          25,
          33.333333333333336,
          40,
          66.66666666666667,
          28.571428571428573,
          100,
          33.333333333333336
         ],
         "yaxis": "y"
        },
        {
         "alignmentgroup": "True",
         "hovertemplate": "Sign=Negative<br>Date=%{x}<br>Percentage=%{y}<extra></extra>",
         "legendgroup": "Negative",
         "marker": {
          "color": "#FF9C6E",
          "pattern": {
           "shape": ""
          }
         },
         "name": "Negative",
         "offsetgroup": "Negative",
         "orientation": "v",
         "showlegend": true,
         "textposition": "auto",
         "type": "bar",
         "x": [
          "2022-10-21T00:00:00",
          "2022-10-27T00:00:00",
          "2022-10-26T00:00:00",
          "2022-10-25T00:00:00",
          "2022-10-23T00:00:00",
          "2022-10-22T00:00:00",
          "2022-10-20T00:00:00",
          "2022-10-01T00:00:00",
          "2022-10-19T00:00:00",
          "2022-10-17T00:00:00",
          "2022-10-15T00:00:00",
          "2022-10-13T00:00:00",
          "2022-10-12T00:00:00",
          "2022-10-10T00:00:00",
          "2022-10-08T00:00:00",
          "2022-10-07T00:00:00",
          "2022-10-06T00:00:00",
          "2022-10-05T00:00:00",
          "2022-10-04T00:00:00"
         ],
         "xaxis": "x",
         "y": [
          100,
          100,
          80,
          75,
          100,
          100,
          66.66666666666667,
          100,
          60,
          100,
          100,
          33.333333333333336,
          71.42857142857143,
          100,
          100,
          100,
          100,
          100,
          66.66666666666667
         ],
         "yaxis": "y"
        },
        {
         "alignmentgroup": "True",
         "hovertemplate": "Sign=ExtremNegative<br>Date=%{x}<br>Percentage=%{y}<extra></extra>",
         "legendgroup": "ExtremNegative",
         "marker": {
          "color": "#E45756",
          "pattern": {
           "shape": ""
          }
         },
         "name": "ExtremNegative",
         "offsetgroup": "ExtremNegative",
         "orientation": "v",
         "showlegend": true,
         "textposition": "auto",
         "type": "bar",
         "x": [
          "2022-10-26T00:00:00"
         ],
         "xaxis": "x",
         "y": [
          20
         ],
         "yaxis": "y"
        }
       ],
       "layout": {
        "barmode": "stack",
        "legend": {
         "title": {
          "text": "Sign"
         },
         "tracegroupgap": 0
        },
        "template": {
         "data": {
          "bar": [
           {
            "error_x": {
             "color": "#2a3f5f"
            },
            "error_y": {
             "color": "#2a3f5f"
            },
            "marker": {
             "line": {
              "color": "#E5ECF6",
              "width": 0.5
             },
             "pattern": {
              "fillmode": "overlay",
              "size": 10,
              "solidity": 0.2
             }
            },
            "type": "bar"
           }
          ],
          "barpolar": [
           {
            "marker": {
             "line": {
              "color": "#E5ECF6",
              "width": 0.5
             },
             "pattern": {
              "fillmode": "overlay",
              "size": 10,
              "solidity": 0.2
             }
            },
            "type": "barpolar"
           }
          ],
          "carpet": [
           {
            "aaxis": {
             "endlinecolor": "#2a3f5f",
             "gridcolor": "white",
             "linecolor": "white",
             "minorgridcolor": "white",
             "startlinecolor": "#2a3f5f"
            },
            "baxis": {
             "endlinecolor": "#2a3f5f",
             "gridcolor": "white",
             "linecolor": "white",
             "minorgridcolor": "white",
             "startlinecolor": "#2a3f5f"
            },
            "type": "carpet"
           }
          ],
          "choropleth": [
           {
            "colorbar": {
             "outlinewidth": 0,
             "ticks": ""
            },
            "type": "choropleth"
           }
          ],
          "contour": [
           {
            "colorbar": {
             "outlinewidth": 0,
             "ticks": ""
            },
            "colorscale": [
             [
              0,
              "#0d0887"
             ],
             [
              0.1111111111111111,
              "#46039f"
             ],
             [
              0.2222222222222222,
              "#7201a8"
             ],
             [
              0.3333333333333333,
              "#9c179e"
             ],
             [
              0.4444444444444444,
              "#bd3786"
             ],
             [
              0.5555555555555556,
              "#d8576b"
             ],
             [
              0.6666666666666666,
              "#ed7953"
             ],
             [
              0.7777777777777778,
              "#fb9f3a"
             ],
             [
              0.8888888888888888,
              "#fdca26"
             ],
             [
              1,
              "#f0f921"
             ]
            ],
            "type": "contour"
           }
          ],
          "contourcarpet": [
           {
            "colorbar": {
             "outlinewidth": 0,
             "ticks": ""
            },
            "type": "contourcarpet"
           }
          ],
          "heatmap": [
           {
            "colorbar": {
             "outlinewidth": 0,
             "ticks": ""
            },
            "colorscale": [
             [
              0,
              "#0d0887"
             ],
             [
              0.1111111111111111,
              "#46039f"
             ],
             [
              0.2222222222222222,
              "#7201a8"
             ],
             [
              0.3333333333333333,
              "#9c179e"
             ],
             [
              0.4444444444444444,
              "#bd3786"
             ],
             [
              0.5555555555555556,
              "#d8576b"
             ],
             [
              0.6666666666666666,
              "#ed7953"
             ],
             [
              0.7777777777777778,
              "#fb9f3a"
             ],
             [
              0.8888888888888888,
              "#fdca26"
             ],
             [
              1,
              "#f0f921"
             ]
            ],
            "type": "heatmap"
           }
          ],
          "heatmapgl": [
           {
            "colorbar": {
             "outlinewidth": 0,
             "ticks": ""
            },
            "colorscale": [
             [
              0,
              "#0d0887"
             ],
             [
              0.1111111111111111,
              "#46039f"
             ],
             [
              0.2222222222222222,
              "#7201a8"
             ],
             [
              0.3333333333333333,
              "#9c179e"
             ],
             [
              0.4444444444444444,
              "#bd3786"
             ],
             [
              0.5555555555555556,
              "#d8576b"
             ],
             [
              0.6666666666666666,
              "#ed7953"
             ],
             [
              0.7777777777777778,
              "#fb9f3a"
             ],
             [
              0.8888888888888888,
              "#fdca26"
             ],
             [
              1,
              "#f0f921"
             ]
            ],
            "type": "heatmapgl"
           }
          ],
          "histogram": [
           {
            "marker": {
             "pattern": {
              "fillmode": "overlay",
              "size": 10,
              "solidity": 0.2
             }
            },
            "type": "histogram"
           }
          ],
          "histogram2d": [
           {
            "colorbar": {
             "outlinewidth": 0,
             "ticks": ""
            },
            "colorscale": [
             [
              0,
              "#0d0887"
             ],
             [
              0.1111111111111111,
              "#46039f"
             ],
             [
              0.2222222222222222,
              "#7201a8"
             ],
             [
              0.3333333333333333,
              "#9c179e"
             ],
             [
              0.4444444444444444,
              "#bd3786"
             ],
             [
              0.5555555555555556,
              "#d8576b"
             ],
             [
              0.6666666666666666,
              "#ed7953"
             ],
             [
              0.7777777777777778,
              "#fb9f3a"
             ],
             [
              0.8888888888888888,
              "#fdca26"
             ],
             [
              1,
              "#f0f921"
             ]
            ],
            "type": "histogram2d"
           }
          ],
          "histogram2dcontour": [
           {
            "colorbar": {
             "outlinewidth": 0,
             "ticks": ""
            },
            "colorscale": [
             [
              0,
              "#0d0887"
             ],
             [
              0.1111111111111111,
              "#46039f"
             ],
             [
              0.2222222222222222,
              "#7201a8"
             ],
             [
              0.3333333333333333,
              "#9c179e"
             ],
             [
              0.4444444444444444,
              "#bd3786"
             ],
             [
              0.5555555555555556,
              "#d8576b"
             ],
             [
              0.6666666666666666,
              "#ed7953"
             ],
             [
              0.7777777777777778,
              "#fb9f3a"
             ],
             [
              0.8888888888888888,
              "#fdca26"
             ],
             [
              1,
              "#f0f921"
             ]
            ],
            "type": "histogram2dcontour"
           }
          ],
          "mesh3d": [
           {
            "colorbar": {
             "outlinewidth": 0,
             "ticks": ""
            },
            "type": "mesh3d"
           }
          ],
          "parcoords": [
           {
            "line": {
             "colorbar": {
              "outlinewidth": 0,
              "ticks": ""
             }
            },
            "type": "parcoords"
           }
          ],
          "pie": [
           {
            "automargin": true,
            "type": "pie"
           }
          ],
          "scatter": [
           {
            "fillpattern": {
             "fillmode": "overlay",
             "size": 10,
             "solidity": 0.2
            },
            "type": "scatter"
           }
          ],
          "scatter3d": [
           {
            "line": {
             "colorbar": {
              "outlinewidth": 0,
              "ticks": ""
             }
            },
            "marker": {
             "colorbar": {
              "outlinewidth": 0,
              "ticks": ""
             }
            },
            "type": "scatter3d"
           }
          ],
          "scattercarpet": [
           {
            "marker": {
             "colorbar": {
              "outlinewidth": 0,
              "ticks": ""
             }
            },
            "type": "scattercarpet"
           }
          ],
          "scattergeo": [
           {
            "marker": {
             "colorbar": {
              "outlinewidth": 0,
              "ticks": ""
             }
            },
            "type": "scattergeo"
           }
          ],
          "scattergl": [
           {
            "marker": {
             "colorbar": {
              "outlinewidth": 0,
              "ticks": ""
             }
            },
            "type": "scattergl"
           }
          ],
          "scattermapbox": [
           {
            "marker": {
             "colorbar": {
              "outlinewidth": 0,
              "ticks": ""
             }
            },
            "type": "scattermapbox"
           }
          ],
          "scatterpolar": [
           {
            "marker": {
             "colorbar": {
              "outlinewidth": 0,
              "ticks": ""
             }
            },
            "type": "scatterpolar"
           }
          ],
          "scatterpolargl": [
           {
            "marker": {
             "colorbar": {
              "outlinewidth": 0,
              "ticks": ""
             }
            },
            "type": "scatterpolargl"
           }
          ],
          "scatterternary": [
           {
            "marker": {
             "colorbar": {
              "outlinewidth": 0,
              "ticks": ""
             }
            },
            "type": "scatterternary"
           }
          ],
          "surface": [
           {
            "colorbar": {
             "outlinewidth": 0,
             "ticks": ""
            },
            "colorscale": [
             [
              0,
              "#0d0887"
             ],
             [
              0.1111111111111111,
              "#46039f"
             ],
             [
              0.2222222222222222,
              "#7201a8"
             ],
             [
              0.3333333333333333,
              "#9c179e"
             ],
             [
              0.4444444444444444,
              "#bd3786"
             ],
             [
              0.5555555555555556,
              "#d8576b"
             ],
             [
              0.6666666666666666,
              "#ed7953"
             ],
             [
              0.7777777777777778,
              "#fb9f3a"
             ],
             [
              0.8888888888888888,
              "#fdca26"
             ],
             [
              1,
              "#f0f921"
             ]
            ],
            "type": "surface"
           }
          ],
          "table": [
           {
            "cells": {
             "fill": {
              "color": "#EBF0F8"
             },
             "line": {
              "color": "white"
             }
            },
            "header": {
             "fill": {
              "color": "#C8D4E3"
             },
             "line": {
              "color": "white"
             }
            },
            "type": "table"
           }
          ]
         },
         "layout": {
          "annotationdefaults": {
           "arrowcolor": "#2a3f5f",
           "arrowhead": 0,
           "arrowwidth": 1
          },
          "autotypenumbers": "strict",
          "coloraxis": {
           "colorbar": {
            "outlinewidth": 0,
            "ticks": ""
           }
          },
          "colorscale": {
           "diverging": [
            [
             0,
             "#8e0152"
            ],
            [
             0.1,
             "#c51b7d"
            ],
            [
             0.2,
             "#de77ae"
            ],
            [
             0.3,
             "#f1b6da"
            ],
            [
             0.4,
             "#fde0ef"
            ],
            [
             0.5,
             "#f7f7f7"
            ],
            [
             0.6,
             "#e6f5d0"
            ],
            [
             0.7,
             "#b8e186"
            ],
            [
             0.8,
             "#7fbc41"
            ],
            [
             0.9,
             "#4d9221"
            ],
            [
             1,
             "#276419"
            ]
           ],
           "sequential": [
            [
             0,
             "#0d0887"
            ],
            [
             0.1111111111111111,
             "#46039f"
            ],
            [
             0.2222222222222222,
             "#7201a8"
            ],
            [
             0.3333333333333333,
             "#9c179e"
            ],
            [
             0.4444444444444444,
             "#bd3786"
            ],
            [
             0.5555555555555556,
             "#d8576b"
            ],
            [
             0.6666666666666666,
             "#ed7953"
            ],
            [
             0.7777777777777778,
             "#fb9f3a"
            ],
            [
             0.8888888888888888,
             "#fdca26"
            ],
            [
             1,
             "#f0f921"
            ]
           ],
           "sequentialminus": [
            [
             0,
             "#0d0887"
            ],
            [
             0.1111111111111111,
             "#46039f"
            ],
            [
             0.2222222222222222,
             "#7201a8"
            ],
            [
             0.3333333333333333,
             "#9c179e"
            ],
            [
             0.4444444444444444,
             "#bd3786"
            ],
            [
             0.5555555555555556,
             "#d8576b"
            ],
            [
             0.6666666666666666,
             "#ed7953"
            ],
            [
             0.7777777777777778,
             "#fb9f3a"
            ],
            [
             0.8888888888888888,
             "#fdca26"
            ],
            [
             1,
             "#f0f921"
            ]
           ]
          },
          "colorway": [
           "#636efa",
           "#EF553B",
           "#00cc96",
           "#ab63fa",
           "#FFA15A",
           "#19d3f3",
           "#FF6692",
           "#B6E880",
           "#FF97FF",
           "#FECB52"
          ],
          "font": {
           "color": "#2a3f5f"
          },
          "geo": {
           "bgcolor": "white",
           "lakecolor": "white",
           "landcolor": "#E5ECF6",
           "showlakes": true,
           "showland": true,
           "subunitcolor": "white"
          },
          "hoverlabel": {
           "align": "left"
          },
          "hovermode": "closest",
          "mapbox": {
           "style": "light"
          },
          "paper_bgcolor": "white",
          "plot_bgcolor": "#E5ECF6",
          "polar": {
           "angularaxis": {
            "gridcolor": "white",
            "linecolor": "white",
            "ticks": ""
           },
           "bgcolor": "#E5ECF6",
           "radialaxis": {
            "gridcolor": "white",
            "linecolor": "white",
            "ticks": ""
           }
          },
          "scene": {
           "xaxis": {
            "backgroundcolor": "#E5ECF6",
            "gridcolor": "white",
            "gridwidth": 2,
            "linecolor": "white",
            "showbackground": true,
            "ticks": "",
            "zerolinecolor": "white"
           },
           "yaxis": {
            "backgroundcolor": "#E5ECF6",
            "gridcolor": "white",
            "gridwidth": 2,
            "linecolor": "white",
            "showbackground": true,
            "ticks": "",
            "zerolinecolor": "white"
           },
           "zaxis": {
            "backgroundcolor": "#E5ECF6",
            "gridcolor": "white",
            "gridwidth": 2,
            "linecolor": "white",
            "showbackground": true,
            "ticks": "",
            "zerolinecolor": "white"
           }
          },
          "shapedefaults": {
           "line": {
            "color": "#2a3f5f"
           }
          },
          "ternary": {
           "aaxis": {
            "gridcolor": "white",
            "linecolor": "white",
            "ticks": ""
           },
           "baxis": {
            "gridcolor": "white",
            "linecolor": "white",
            "ticks": ""
           },
           "bgcolor": "#E5ECF6",
           "caxis": {
            "gridcolor": "white",
            "linecolor": "white",
            "ticks": ""
           }
          },
          "title": {
           "x": 0.05
          },
          "xaxis": {
           "automargin": true,
           "gridcolor": "white",
           "linecolor": "white",
           "ticks": "",
           "title": {
            "standoff": 15
           },
           "zerolinecolor": "white",
           "zerolinewidth": 2
          },
          "yaxis": {
           "automargin": true,
           "gridcolor": "white",
           "linecolor": "white",
           "ticks": "",
           "title": {
            "standoff": 15
           },
           "zerolinecolor": "white",
           "zerolinewidth": 2
          }
         }
        },
        "title": {
         "text": "Label Proportion for Meta Inc."
        },
        "xaxis": {
         "anchor": "y",
         "domain": [
          0,
          1
         ],
         "rangeslider": {
          "visible": true
         },
         "title": {
          "text": "Quarter"
         }
        },
        "yaxis": {
         "anchor": "x",
         "domain": [
          0,
          1
         ],
         "title": {
          "text": "Label Proportion %"
         }
        }
       }
      }
     },
     "metadata": {},
     "output_type": "display_data"
    }
   ],
   "source": [
    "color_palette =   [\"#A4C3A2\",\"#A8C686\", '#EAE7D6', \"#FF9C6E\", \"#E45756\"]\n",
    "\n",
    "filtered_df = df_short_2[df_short_2[\"Company\"] == 'Meta Inc.']\n",
    "fig = px.bar(filtered_df, x=\"Date\", y=\"Percentage\", color=\"Sign\",\n",
    "                title=f\"Label Proportion for Meta Inc.\", color_discrete_sequence=color_palette,\n",
    "                category_orders={\"Sign\": [\"ExtremPositive\", \"Positive\", \"Neutral\", \"Negative\", \"ExtremNegative\"]})\n",
    "fig.update_layout(barmode=\"stack\")\n",
    "fig.update_layout(xaxis_title='Quarter', yaxis_title='Label Proportion %',\n",
    "                    xaxis=dict(rangeslider=dict(visible=True)))\n",
    "fig.show()\n",
    "\n",
    "\n"
   ]
  },
  {
   "attachments": {},
   "cell_type": "markdown",
   "metadata": {},
   "source": [
    "### 2.2 Shares price history"
   ]
  },
  {
   "cell_type": "code",
   "execution_count": 11,
   "metadata": {},
   "outputs": [
    {
     "data": {
      "application/vnd.jupyter.widget-view+json": {
       "model_id": "3fc932fe49f744eaa3ad3fad770ea67f",
       "version_major": 2,
       "version_minor": 0
      },
      "text/plain": [
       "interactive(children=(Dropdown(description='company', options=('Meta Inc.',), value='Meta Inc.'), Button(descr…"
      ]
     },
     "metadata": {},
     "output_type": "display_data"
    },
    {
     "data": {
      "application/vnd.plotly.v1+json": {
       "config": {
        "plotlyServerURL": "https://plot.ly"
       },
       "data": [
        {
         "hovertemplate": "Company=Meta Inc.<br>Date=%{x}<br>change_percent=%{y}<extra></extra>",
         "legendgroup": "Meta Inc.",
         "line": {
          "color": "#636efa",
          "dash": "solid"
         },
         "marker": {
          "symbol": "circle"
         },
         "mode": "lines",
         "name": "Meta Inc.",
         "orientation": "v",
         "showlegend": true,
         "type": "scatter",
         "x": [
          "2022-10-03T00:00:00",
          "2022-10-04T00:00:00",
          "2022-10-05T00:00:00",
          "2022-10-06T00:00:00",
          "2022-10-07T00:00:00",
          "2022-10-10T00:00:00",
          "2022-10-11T00:00:00",
          "2022-10-12T00:00:00",
          "2022-10-13T00:00:00",
          "2022-10-14T00:00:00",
          "2022-10-17T00:00:00",
          "2022-10-18T00:00:00",
          "2022-10-19T00:00:00",
          "2022-10-20T00:00:00",
          "2022-10-21T00:00:00",
          "2022-10-24T00:00:00",
          "2022-10-25T00:00:00",
          "2022-10-26T00:00:00",
          "2022-10-27T00:00:00",
          "2022-10-28T00:00:00",
          "2022-10-31T00:00:00"
         ],
         "xaxis": "x",
         "y": [
          2.1594929245283065,
          1.2048192771084245,
          -0.9267179925862642,
          0.06475751906749418,
          -4.0411303660027365,
          0.2547770700636969,
          -3.924060094177442,
          -0.8090866656293698,
          2.188235294117641,
          -2.7093407015120015,
          5.743136636162817,
          -0.9250969859743217,
          0.3237951807228753,
          -1.2759888913908195,
          -1.155629894320695,
          -0.22305976463348362,
          6.005242059821147,
          -5.592320558504834,
          -24.557079032506547,
          1.286501939963248,
          -6.08870967741936
         ],
         "yaxis": "y"
        }
       ],
       "layout": {
        "legend": {
         "title": {
          "text": "Company"
         },
         "tracegroupgap": 0
        },
        "template": {
         "data": {
          "bar": [
           {
            "error_x": {
             "color": "#2a3f5f"
            },
            "error_y": {
             "color": "#2a3f5f"
            },
            "marker": {
             "line": {
              "color": "#E5ECF6",
              "width": 0.5
             },
             "pattern": {
              "fillmode": "overlay",
              "size": 10,
              "solidity": 0.2
             }
            },
            "type": "bar"
           }
          ],
          "barpolar": [
           {
            "marker": {
             "line": {
              "color": "#E5ECF6",
              "width": 0.5
             },
             "pattern": {
              "fillmode": "overlay",
              "size": 10,
              "solidity": 0.2
             }
            },
            "type": "barpolar"
           }
          ],
          "carpet": [
           {
            "aaxis": {
             "endlinecolor": "#2a3f5f",
             "gridcolor": "white",
             "linecolor": "white",
             "minorgridcolor": "white",
             "startlinecolor": "#2a3f5f"
            },
            "baxis": {
             "endlinecolor": "#2a3f5f",
             "gridcolor": "white",
             "linecolor": "white",
             "minorgridcolor": "white",
             "startlinecolor": "#2a3f5f"
            },
            "type": "carpet"
           }
          ],
          "choropleth": [
           {
            "colorbar": {
             "outlinewidth": 0,
             "ticks": ""
            },
            "type": "choropleth"
           }
          ],
          "contour": [
           {
            "colorbar": {
             "outlinewidth": 0,
             "ticks": ""
            },
            "colorscale": [
             [
              0,
              "#0d0887"
             ],
             [
              0.1111111111111111,
              "#46039f"
             ],
             [
              0.2222222222222222,
              "#7201a8"
             ],
             [
              0.3333333333333333,
              "#9c179e"
             ],
             [
              0.4444444444444444,
              "#bd3786"
             ],
             [
              0.5555555555555556,
              "#d8576b"
             ],
             [
              0.6666666666666666,
              "#ed7953"
             ],
             [
              0.7777777777777778,
              "#fb9f3a"
             ],
             [
              0.8888888888888888,
              "#fdca26"
             ],
             [
              1,
              "#f0f921"
             ]
            ],
            "type": "contour"
           }
          ],
          "contourcarpet": [
           {
            "colorbar": {
             "outlinewidth": 0,
             "ticks": ""
            },
            "type": "contourcarpet"
           }
          ],
          "heatmap": [
           {
            "colorbar": {
             "outlinewidth": 0,
             "ticks": ""
            },
            "colorscale": [
             [
              0,
              "#0d0887"
             ],
             [
              0.1111111111111111,
              "#46039f"
             ],
             [
              0.2222222222222222,
              "#7201a8"
             ],
             [
              0.3333333333333333,
              "#9c179e"
             ],
             [
              0.4444444444444444,
              "#bd3786"
             ],
             [
              0.5555555555555556,
              "#d8576b"
             ],
             [
              0.6666666666666666,
              "#ed7953"
             ],
             [
              0.7777777777777778,
              "#fb9f3a"
             ],
             [
              0.8888888888888888,
              "#fdca26"
             ],
             [
              1,
              "#f0f921"
             ]
            ],
            "type": "heatmap"
           }
          ],
          "heatmapgl": [
           {
            "colorbar": {
             "outlinewidth": 0,
             "ticks": ""
            },
            "colorscale": [
             [
              0,
              "#0d0887"
             ],
             [
              0.1111111111111111,
              "#46039f"
             ],
             [
              0.2222222222222222,
              "#7201a8"
             ],
             [
              0.3333333333333333,
              "#9c179e"
             ],
             [
              0.4444444444444444,
              "#bd3786"
             ],
             [
              0.5555555555555556,
              "#d8576b"
             ],
             [
              0.6666666666666666,
              "#ed7953"
             ],
             [
              0.7777777777777778,
              "#fb9f3a"
             ],
             [
              0.8888888888888888,
              "#fdca26"
             ],
             [
              1,
              "#f0f921"
             ]
            ],
            "type": "heatmapgl"
           }
          ],
          "histogram": [
           {
            "marker": {
             "pattern": {
              "fillmode": "overlay",
              "size": 10,
              "solidity": 0.2
             }
            },
            "type": "histogram"
           }
          ],
          "histogram2d": [
           {
            "colorbar": {
             "outlinewidth": 0,
             "ticks": ""
            },
            "colorscale": [
             [
              0,
              "#0d0887"
             ],
             [
              0.1111111111111111,
              "#46039f"
             ],
             [
              0.2222222222222222,
              "#7201a8"
             ],
             [
              0.3333333333333333,
              "#9c179e"
             ],
             [
              0.4444444444444444,
              "#bd3786"
             ],
             [
              0.5555555555555556,
              "#d8576b"
             ],
             [
              0.6666666666666666,
              "#ed7953"
             ],
             [
              0.7777777777777778,
              "#fb9f3a"
             ],
             [
              0.8888888888888888,
              "#fdca26"
             ],
             [
              1,
              "#f0f921"
             ]
            ],
            "type": "histogram2d"
           }
          ],
          "histogram2dcontour": [
           {
            "colorbar": {
             "outlinewidth": 0,
             "ticks": ""
            },
            "colorscale": [
             [
              0,
              "#0d0887"
             ],
             [
              0.1111111111111111,
              "#46039f"
             ],
             [
              0.2222222222222222,
              "#7201a8"
             ],
             [
              0.3333333333333333,
              "#9c179e"
             ],
             [
              0.4444444444444444,
              "#bd3786"
             ],
             [
              0.5555555555555556,
              "#d8576b"
             ],
             [
              0.6666666666666666,
              "#ed7953"
             ],
             [
              0.7777777777777778,
              "#fb9f3a"
             ],
             [
              0.8888888888888888,
              "#fdca26"
             ],
             [
              1,
              "#f0f921"
             ]
            ],
            "type": "histogram2dcontour"
           }
          ],
          "mesh3d": [
           {
            "colorbar": {
             "outlinewidth": 0,
             "ticks": ""
            },
            "type": "mesh3d"
           }
          ],
          "parcoords": [
           {
            "line": {
             "colorbar": {
              "outlinewidth": 0,
              "ticks": ""
             }
            },
            "type": "parcoords"
           }
          ],
          "pie": [
           {
            "automargin": true,
            "type": "pie"
           }
          ],
          "scatter": [
           {
            "fillpattern": {
             "fillmode": "overlay",
             "size": 10,
             "solidity": 0.2
            },
            "type": "scatter"
           }
          ],
          "scatter3d": [
           {
            "line": {
             "colorbar": {
              "outlinewidth": 0,
              "ticks": ""
             }
            },
            "marker": {
             "colorbar": {
              "outlinewidth": 0,
              "ticks": ""
             }
            },
            "type": "scatter3d"
           }
          ],
          "scattercarpet": [
           {
            "marker": {
             "colorbar": {
              "outlinewidth": 0,
              "ticks": ""
             }
            },
            "type": "scattercarpet"
           }
          ],
          "scattergeo": [
           {
            "marker": {
             "colorbar": {
              "outlinewidth": 0,
              "ticks": ""
             }
            },
            "type": "scattergeo"
           }
          ],
          "scattergl": [
           {
            "marker": {
             "colorbar": {
              "outlinewidth": 0,
              "ticks": ""
             }
            },
            "type": "scattergl"
           }
          ],
          "scattermapbox": [
           {
            "marker": {
             "colorbar": {
              "outlinewidth": 0,
              "ticks": ""
             }
            },
            "type": "scattermapbox"
           }
          ],
          "scatterpolar": [
           {
            "marker": {
             "colorbar": {
              "outlinewidth": 0,
              "ticks": ""
             }
            },
            "type": "scatterpolar"
           }
          ],
          "scatterpolargl": [
           {
            "marker": {
             "colorbar": {
              "outlinewidth": 0,
              "ticks": ""
             }
            },
            "type": "scatterpolargl"
           }
          ],
          "scatterternary": [
           {
            "marker": {
             "colorbar": {
              "outlinewidth": 0,
              "ticks": ""
             }
            },
            "type": "scatterternary"
           }
          ],
          "surface": [
           {
            "colorbar": {
             "outlinewidth": 0,
             "ticks": ""
            },
            "colorscale": [
             [
              0,
              "#0d0887"
             ],
             [
              0.1111111111111111,
              "#46039f"
             ],
             [
              0.2222222222222222,
              "#7201a8"
             ],
             [
              0.3333333333333333,
              "#9c179e"
             ],
             [
              0.4444444444444444,
              "#bd3786"
             ],
             [
              0.5555555555555556,
              "#d8576b"
             ],
             [
              0.6666666666666666,
              "#ed7953"
             ],
             [
              0.7777777777777778,
              "#fb9f3a"
             ],
             [
              0.8888888888888888,
              "#fdca26"
             ],
             [
              1,
              "#f0f921"
             ]
            ],
            "type": "surface"
           }
          ],
          "table": [
           {
            "cells": {
             "fill": {
              "color": "#EBF0F8"
             },
             "line": {
              "color": "white"
             }
            },
            "header": {
             "fill": {
              "color": "#C8D4E3"
             },
             "line": {
              "color": "white"
             }
            },
            "type": "table"
           }
          ]
         },
         "layout": {
          "annotationdefaults": {
           "arrowcolor": "#2a3f5f",
           "arrowhead": 0,
           "arrowwidth": 1
          },
          "autotypenumbers": "strict",
          "coloraxis": {
           "colorbar": {
            "outlinewidth": 0,
            "ticks": ""
           }
          },
          "colorscale": {
           "diverging": [
            [
             0,
             "#8e0152"
            ],
            [
             0.1,
             "#c51b7d"
            ],
            [
             0.2,
             "#de77ae"
            ],
            [
             0.3,
             "#f1b6da"
            ],
            [
             0.4,
             "#fde0ef"
            ],
            [
             0.5,
             "#f7f7f7"
            ],
            [
             0.6,
             "#e6f5d0"
            ],
            [
             0.7,
             "#b8e186"
            ],
            [
             0.8,
             "#7fbc41"
            ],
            [
             0.9,
             "#4d9221"
            ],
            [
             1,
             "#276419"
            ]
           ],
           "sequential": [
            [
             0,
             "#0d0887"
            ],
            [
             0.1111111111111111,
             "#46039f"
            ],
            [
             0.2222222222222222,
             "#7201a8"
            ],
            [
             0.3333333333333333,
             "#9c179e"
            ],
            [
             0.4444444444444444,
             "#bd3786"
            ],
            [
             0.5555555555555556,
             "#d8576b"
            ],
            [
             0.6666666666666666,
             "#ed7953"
            ],
            [
             0.7777777777777778,
             "#fb9f3a"
            ],
            [
             0.8888888888888888,
             "#fdca26"
            ],
            [
             1,
             "#f0f921"
            ]
           ],
           "sequentialminus": [
            [
             0,
             "#0d0887"
            ],
            [
             0.1111111111111111,
             "#46039f"
            ],
            [
             0.2222222222222222,
             "#7201a8"
            ],
            [
             0.3333333333333333,
             "#9c179e"
            ],
            [
             0.4444444444444444,
             "#bd3786"
            ],
            [
             0.5555555555555556,
             "#d8576b"
            ],
            [
             0.6666666666666666,
             "#ed7953"
            ],
            [
             0.7777777777777778,
             "#fb9f3a"
            ],
            [
             0.8888888888888888,
             "#fdca26"
            ],
            [
             1,
             "#f0f921"
            ]
           ]
          },
          "colorway": [
           "#636efa",
           "#EF553B",
           "#00cc96",
           "#ab63fa",
           "#FFA15A",
           "#19d3f3",
           "#FF6692",
           "#B6E880",
           "#FF97FF",
           "#FECB52"
          ],
          "font": {
           "color": "#2a3f5f"
          },
          "geo": {
           "bgcolor": "white",
           "lakecolor": "white",
           "landcolor": "#E5ECF6",
           "showlakes": true,
           "showland": true,
           "subunitcolor": "white"
          },
          "hoverlabel": {
           "align": "left"
          },
          "hovermode": "closest",
          "mapbox": {
           "style": "light"
          },
          "paper_bgcolor": "white",
          "plot_bgcolor": "#E5ECF6",
          "polar": {
           "angularaxis": {
            "gridcolor": "white",
            "linecolor": "white",
            "ticks": ""
           },
           "bgcolor": "#E5ECF6",
           "radialaxis": {
            "gridcolor": "white",
            "linecolor": "white",
            "ticks": ""
           }
          },
          "scene": {
           "xaxis": {
            "backgroundcolor": "#E5ECF6",
            "gridcolor": "white",
            "gridwidth": 2,
            "linecolor": "white",
            "showbackground": true,
            "ticks": "",
            "zerolinecolor": "white"
           },
           "yaxis": {
            "backgroundcolor": "#E5ECF6",
            "gridcolor": "white",
            "gridwidth": 2,
            "linecolor": "white",
            "showbackground": true,
            "ticks": "",
            "zerolinecolor": "white"
           },
           "zaxis": {
            "backgroundcolor": "#E5ECF6",
            "gridcolor": "white",
            "gridwidth": 2,
            "linecolor": "white",
            "showbackground": true,
            "ticks": "",
            "zerolinecolor": "white"
           }
          },
          "shapedefaults": {
           "line": {
            "color": "#2a3f5f"
           }
          },
          "ternary": {
           "aaxis": {
            "gridcolor": "white",
            "linecolor": "white",
            "ticks": ""
           },
           "baxis": {
            "gridcolor": "white",
            "linecolor": "white",
            "ticks": ""
           },
           "bgcolor": "#E5ECF6",
           "caxis": {
            "gridcolor": "white",
            "linecolor": "white",
            "ticks": ""
           }
          },
          "title": {
           "x": 0.05
          },
          "xaxis": {
           "automargin": true,
           "gridcolor": "white",
           "linecolor": "white",
           "ticks": "",
           "title": {
            "standoff": 15
           },
           "zerolinecolor": "white",
           "zerolinewidth": 2
          },
          "yaxis": {
           "automargin": true,
           "gridcolor": "white",
           "linecolor": "white",
           "ticks": "",
           "title": {
            "standoff": 15
           },
           "zerolinecolor": "white",
           "zerolinewidth": 2
          }
         }
        },
        "title": {
         "text": "Stock Prices Change"
        },
        "xaxis": {
         "anchor": "y",
         "domain": [
          0,
          1
         ],
         "rangeslider": {
          "visible": true
         },
         "title": {
          "text": "Quarter"
         }
        },
        "yaxis": {
         "anchor": "x",
         "domain": [
          0,
          1
         ],
         "title": {
          "text": "Daily Change"
         }
        }
       }
      }
     },
     "metadata": {},
     "output_type": "display_data"
    }
   ],
   "source": [
    "# Read dữ liệu\n",
    "stock_history_df = pd.read_csv('/Users/nguyenhien/Desktop/OneDrive/2. Learning/2.3 Data Science/@python/1. Machine Learning/Project/Lattest/NLP_Newstitles/Actual_title_sen_AAPL_history.csv', sep = ';')\n",
    "stock_history_df = stock_history_df.iloc[:, [0,4,7]]\n",
    "# Xử lý cột 'Date' sang định dạng datetime\n",
    "stock_history_df['Date'] = pd.to_datetime(stock_history_df['Date'], format='%d/%m/%Y')\n",
    "# Xử lý cột 'Close'\n",
    "stock_history_df['Close'] = stock_history_df['Close'].astype(str)\n",
    "stock_history_df['Close'] = stock_history_df['Close'].str.replace('.', '').astype(float) / 1000000\n",
    "stock_history_df['Close'] = stock_history_df['Close'].apply(lambda x: round(x, 2))\n",
    "\n",
    "#Lấy sự thay đổi mỗi ngày\n",
    "stock_history_df['daily_change'] = stock_history_df.groupby('Company')['Close'].pct_change()\n",
    "stock_history_df['change_percent'] = (stock_history_df['Close'] - stock_history_df['Close'].shift(1)) / stock_history_df['Close'].shift(1) * 100\n",
    "\n",
    "stock_history_df = stock_history_df[(stock_history_df['Date'].dt.month == 10) & (stock_history_df['Date'].dt.year == 2022)]\n",
    "stock_history_all = stock_history_df\n",
    "stock_history_df = stock_history_df[stock_history_df['Company'] == 'Meta Inc.']\n",
    "\n",
    "stock_history_df\n",
    "\n",
    "@interact_manual(company=widgets.Dropdown(options=stock_history_df['Company'].unique()), layout=widgets.Layout(width='200px', height='10px'))\n",
    "# Tạo hàm để vẽ biểu đồ tương tác\n",
    "def plot_interactive_chart(company):\n",
    "    filtered_df = stock_history_df[stock_history_df[\"Company\"] == company]\n",
    "    # Vẽ biểu đồ line chart\n",
    "    fig = px.line(filtered_df, x='Date', y='change_percent', color='Company', title='Stock Prices Change')\n",
    "    fig.update_layout(xaxis_title='Quarter', yaxis_title='Daily Change',\n",
    "                    xaxis=dict(rangeslider=dict(visible=True)))\n",
    "    # Hiển thị biểu đồ\n",
    "    fig.show()\n"
   ]
  },
  {
   "cell_type": "markdown",
   "metadata": {},
   "source": [
    "### 3. Finding\n",
    "The analysis initially uncovers a weak correlation between the proportion of labels and share price. However, as we increase the levels of labeling the correlation strengthens. This highlights the challenge of making predictions solely using the Naive Bayes Classifier, but demonstrates the feasibility of achieving better result by incorporating multiple libraries\n",
    "\n",
    "Limitations\n",
    "1. News headlines often discuss operational decisions that typically (1) don't have a direct impact on stock prices, or (2) they mentions the events in financial reports that do affect stock prices, but only when there is a significant increase\n",
    "or decrease in share price. Therefore, it may not always provide investors with timely information from financial reports to stay up-to-date.\n",
    "2. Binary labels (positive, negative, extremely positive, and extremely negative) don't indicate the exact percentage of how much the title affects the share price or how much the share price will change based on the news.\n",
    "To overcome these limitations, we can take additional steps:\n",
    "- Broaden the range of news sources to ensure comprehensive coverage, capturing information that is not included in\n",
    "the Economics Time\n",
    "- Use additional and advanced libraries to analyze multiple features such as the \"Title,\" \"Target Company,\" \"Date,\" and\n",
    "\"Share Price Change\" as inputs and assign scores as outputs for the machine learning model. From using this method we can do the absolute correlation rate."
   ]
  },
  {
   "cell_type": "markdown",
   "metadata": {},
   "source": []
  }
 ],
 "metadata": {
  "kernelspec": {
   "display_name": "Python 3",
   "language": "python",
   "name": "python3"
  },
  "language_info": {
   "codemirror_mode": {
    "name": "ipython",
    "version": 3
   },
   "file_extension": ".py",
   "mimetype": "text/x-python",
   "name": "python",
   "nbconvert_exporter": "python",
   "pygments_lexer": "ipython3",
   "version": "3.11.4"
  },
  "orig_nbformat": 4
 },
 "nbformat": 4,
 "nbformat_minor": 2
}
