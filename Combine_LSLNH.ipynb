{
 "cells": [
  {
   "cell_type": "markdown",
   "metadata": {},
   "source": [
    "1. Quyét dữ liệu inflation và tương đương"
   ]
  },
  {
   "cell_type": "code",
   "execution_count": 32,
   "metadata": {},
   "outputs": [],
   "source": [
    "import requests\n",
    "from bs4 import BeautifulSoup\n",
    "import pandas as pd"
   ]
  },
  {
   "cell_type": "code",
   "execution_count": 7,
   "metadata": {},
   "outputs": [
    {
     "data": {
      "text/plain": [
       "<Response [403]>"
      ]
     },
     "execution_count": 7,
     "metadata": {},
     "output_type": "execute_result"
    }
   ],
   "source": [
    "MacroE_url = 'https://tradingeconomics.com/vietnam/inflation-cpi'\n",
    "response = requests.get(MacroE_url)\n",
    "# allsoup = BeautifulSoup(allpage.text, 'html') \n",
    "# all_table = allsoup.find('tbody')\n",
    "response"
   ]
  },
  {
   "cell_type": "code",
   "execution_count": 4,
   "metadata": {},
   "outputs": [
    {
     "name": "stdout",
     "output_type": "stream",
     "text": [
      "Yêu cầu không thành công.\n"
     ]
    }
   ],
   "source": [
    "# Kiểm tra nếu yêu cầu thành công\n",
    "if response.status_code == 200:\n",
    "    # Sử dụng BeautifulSoup để phân tích cú pháp HTML\n",
    "    soup = BeautifulSoup(response.text, 'html.parser')\n",
    "\n",
    "    # Tìm bảng có class là \"text-right text-nowrap\" (hoặc class của bạn)\n",
    "    table = soup.find('tbody')\n",
    "\n",
    "    # Tạo danh sách trống để lưu dữ liệu\n",
    "    data = []\n",
    "\n",
    "    # Lặp qua các hàng trong bảng\n",
    "    for row in table.find_all('tr'):\n",
    "        # Lấy tất cả các cột trong mỗi hàng\n",
    "        columns = row.find_all('td')\n",
    "        # Lấy nội dung của các cột và lưu vào danh sách dữ liệu\n",
    "        data.append([column.get_text() for column in columns])\n",
    "\n",
    "    # Chuyển danh sách dữ liệu thành DataFrame của pandas\n",
    "    df = pd.DataFrame(data, columns=['Kỳ hạn', 'Other', 'Offline', 'Online'])\n",
    "\n",
    "    # In ra bảng dữ liệu\n",
    "    print(df)\n",
    "\n",
    "else:\n",
    "    print('Yêu cầu không thành công.')"
   ]
  },
  {
   "cell_type": "markdown",
   "metadata": {},
   "source": [
    "2. Lãi suất điều hành SBV\n",
    "\n",
    "https://www.sbv.gov.vn/webcenter/portal/vi/menu/rm/ls?_afrLoop=34719139833966466#%40%3F_afrLoop%3D34719139833966466%26centerWidth%3D80%2525%26leftWidth%3D20%2525%26rightWidth%3D0%2525%26showFooter%3Dfalse%26showHeader%3Dfalse%26_adf.ctrl-state%3Db21pu33qu_53"
   ]
  },
  {
   "cell_type": "code",
   "execution_count": 47,
   "metadata": {},
   "outputs": [],
   "source": [
    "SBV_int_url = 'https://www.sbv.gov.vn/webcenter/portal/vi/menu/rm/ls?_afrLoop=34719139833966466#%40%3F_afrLoop%3D34719139833966466%26centerWidth%3D80%2525%26leftWidth%3D20%2525%26rightWidth%3D0%2525%26showFooter%3Dfalse%26showHeader%3Dfalse%26_adf.ctrl-state%3Db21pu33qu_53'\n",
    "response = requests.get(SBV_int_url)\n",
    "allsoup = BeautifulSoup(response.text, 'html') \n",
    "# Find all rows within the tbody\n",
    "rows = allsoup.find_all('tr')\n",
    "\n",
    "# Initialize a list to store the scraped data\n",
    "data = []\n",
    "\n",
    "# Refinancing rate\n",
    "for row in rows:\n",
    "    cells = row.find_all('td')\n",
    "    if cells:\n",
    "        row_data = [cell.get_text(strip=True) for cell in cells]\n",
    "        data.append(row_data)\n",
    "\n",
    "Refinancing_tb = pd.DataFrame(data[6:8])\n",
    "InterBank_tb = pd.DataFrame(data[14:21]).concat('Date':data[12])"
   ]
  },
  {
   "cell_type": "markdown",
   "metadata": {},
   "source": [
    "2. Quyét dữ liệu lịch sử Lãi suất điều hành của SBV"
   ]
  },
  {
   "cell_type": "code",
   "execution_count": 2,
   "metadata": {},
   "outputs": [],
   "source": [
    "import warnings\n",
    "import pandas as pd\n",
    "\n",
    "# Suppress the openpyxl warning\n",
    "warnings.filterwarnings(\"ignore\")\n",
    "\n",
    "\n",
    "theframe = pd.DataFrame(columns=['update_date','Qua đêm','1 Tuần','2 Tuần','1 Tháng','3 Tháng','6 Tháng','9 Tháng'])\n",
    "\n",
    "for x in range (0,25):\n",
    "    df = pd.read_excel(f\"/Users/nguyenhien/Desktop/Interest rate/Macro Economics/LAI_SUAT_TTLNH ({x}).xlsx\")\n",
    "    new_line = [df.iloc[1,1],df.iloc[5,5],df.iloc[6,5],df.iloc[7,5],df.iloc[8,5],df.iloc[9,5],df.iloc[10,5],df.iloc[11,5]]\n",
    "    new_row = pd.Series(new_line, index=theframe.columns)\n",
    "    theframe = pd.concat([theframe, new_row.to_frame().T], ignore_index=True)\n",
    "\n",
    "warnings.filterwarnings(\"default\")\n"
   ]
  },
  {
   "cell_type": "code",
   "execution_count": 3,
   "metadata": {},
   "outputs": [],
   "source": [
    "theframe.to_excel(\"/Users/nguyenhien/Desktop/Interest rate/Macro Economics/LAI_SUAT_TTLNH_Tổng hợp.xlsx\")"
   ]
  }
 ],
 "metadata": {
  "kernelspec": {
   "display_name": "Python 3",
   "language": "python",
   "name": "python3"
  },
  "language_info": {
   "codemirror_mode": {
    "name": "ipython",
    "version": 3
   },
   "file_extension": ".py",
   "mimetype": "text/x-python",
   "name": "python",
   "nbconvert_exporter": "python",
   "pygments_lexer": "ipython3",
   "version": "3.11.4"
  }
 },
 "nbformat": 4,
 "nbformat_minor": 2
}
