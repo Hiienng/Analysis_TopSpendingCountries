{
 "cells": [
  {
   "cell_type": "markdown",
   "id": "f27a9a4d",
   "metadata": {},
   "source": [
    "# Python - Excercise\n",
    "## Practicepython.org\n",
    "### 1.\n",
    "Create a program that asks the user to enter their name and their age. Print out a message addressed to them that tells them the year that they will turn 100 years old."
   ]
  },
  {
   "cell_type": "code",
   "execution_count": 1,
   "id": "2ac147b4",
   "metadata": {},
   "outputs": [
    {
     "name": "stdout",
     "output_type": "stream",
     "text": [
      "What is your name: 12\n",
      "How old are you: 12\n",
      "12, you will be 100 years old in the year 2102\n"
     ]
    }
   ],
   "source": [
    "name = input(\"What is your name: \")\n",
    "age = int(input(\"How old are you: \"))\n",
    "year = 2014 - age + 100\n",
    "print(name + \", you will be 100 years old in the year \" + str(year))"
   ]
  },
  {
   "cell_type": "markdown",
   "id": "fb99ee40",
   "metadata": {},
   "source": [
    "### 2.\n",
    "Ask the user for a number. Depending on whether the number is even or odd, print out an appropriate message to the user"
   ]
  },
  {
   "cell_type": "code",
   "execution_count": 4,
   "id": "0cf5c8f5",
   "metadata": {},
   "outputs": [
    {
     "name": "stdout",
     "output_type": "stream",
     "text": [
      "What number do you want to check: 10\n",
      "This number is odd\n"
     ]
    }
   ],
   "source": [
    "Number = int(input(\"What number do you want to check: \"))\n",
    "\n",
    "if Number % 2 == 0:\n",
    "    print(\"This number is odd\")\n",
    "else:\n",
    "    print(\"This number is even\")\n"
   ]
  },
  {
   "cell_type": "markdown",
   "id": "cae310a4",
   "metadata": {},
   "source": [
    "### 3.\n",
    "Take a list, a = [1, 1, 2, 3, 5, 8, 13, 21, 34, 55, 89] and write a program that prints out all the elements of the list that are less than 5.\n",
    "- Instead of printing the elements one by one, make a new list that has all the elements less than 5 from this list in it and print out this new list.\n",
    "- Write this in one line of Python.\n",
    "- Ask the user for a number and return a list that contains only elements from the original list a that are smaller than that number given by the user."
   ]
  },
  {
   "cell_type": "code",
   "execution_count": 12,
   "id": "9ba85877",
   "metadata": {},
   "outputs": [
    {
     "name": "stdout",
     "output_type": "stream",
     "text": [
      "1\n",
      "1\n",
      "2\n",
      "3\n"
     ]
    }
   ],
   "source": [
    "a = [1, 1, 2, 3, 5, 8, 13, 21, 34, 55, 89]\n",
    "for b in a :\n",
    "    if b < 5 :\n",
    "        print(b)"
   ]
  },
  {
   "cell_type": "code",
   "execution_count": 13,
   "id": "911ef892",
   "metadata": {},
   "outputs": [
    {
     "name": "stdout",
     "output_type": "stream",
     "text": [
      "[1, 1, 2, 3]\n"
     ]
    }
   ],
   "source": [
    "a = [1, 1, 2, 3, 5, 8, 13, 21, 34, 55, 89]\n",
    "print([b for b in a if b < 5])"
   ]
  },
  {
   "cell_type": "markdown",
   "id": "32502dbd",
   "metadata": {},
   "source": [
    "### 4. \n",
    "Create a program that asks the user for a number and then prints out a list of all the divisors (Chia hết) of that number"
   ]
  },
  {
   "cell_type": "code",
   "execution_count": 19,
   "id": "57ed106a",
   "metadata": {},
   "outputs": [
    {
     "name": "stdout",
     "output_type": "stream",
     "text": [
      "Tell me what number you want to check: 12\n",
      "1\n",
      "2\n",
      "3\n",
      "4\n",
      "6\n",
      "12\n"
     ]
    }
   ],
   "source": [
    "number = int(input(\"Tell me what number you want to check: \"))\n",
    "for b in range(1, number+1):\n",
    "    if number % b == 0:\n",
    "        print(b)"
   ]
  },
  {
   "cell_type": "code",
   "execution_count": 21,
   "id": "35a02541",
   "metadata": {},
   "outputs": [
    {
     "name": "stdout",
     "output_type": "stream",
     "text": [
      "Tell me what number you want to check: 12\n",
      "[1, 2, 3, 4, 6, 12]\n"
     ]
    }
   ],
   "source": [
    "number = int(input(\"Tell me what number you want to check: \"))\n",
    "print([b for b in range(1, number+1) if number % b == 0])"
   ]
  },
  {
   "cell_type": "markdown",
   "id": "5f010346",
   "metadata": {},
   "source": [
    "### 5.\n",
    "Take two lists, say for example these two:\n",
    "  a = [1, 1, 2, 3, 5, 8, 13, 21, 34, 55, 89]\n",
    "  b = [1, 2, 3, 4, 5, 6, 7, 8, 9, 10, 11, 12, 13]\n",
    "and write a program that returns a list that contains only the elements that are common between the lists (without duplicates). Make sure your program works on two lists of different sizes."
   ]
  },
  {
   "cell_type": "code",
   "execution_count": 28,
   "id": "b1fc4ad6",
   "metadata": {},
   "outputs": [
    {
     "name": "stdout",
     "output_type": "stream",
     "text": [
      "Using set() we get:  {1, 2, 3, 34, 5, 8, 13, 21, 55, 89}\n",
      "1\n",
      "2\n",
      "3\n",
      "5\n",
      "8\n",
      "13\n"
     ]
    }
   ],
   "source": [
    "a = [1, 1, 2, 3, 5, 8, 13, 21, 34, 55, 89] \n",
    "b = [1, 2, 3, 4, 5, 6, 7, 8, 9, 10, 11, 12, 13]\n",
    "\n",
    "aa = set(a)\n",
    "print(\"Using set() we get: \", aa)\n",
    "\n",
    "for x in set(a):\n",
    "    if x in set(b) and x:\n",
    "        print(x)"
   ]
  },
  {
   "cell_type": "code",
   "execution_count": 51,
   "id": "73b35b69",
   "metadata": {},
   "outputs": [
    {
     "name": "stdout",
     "output_type": "stream",
     "text": [
      "Hello, please input the text here: hello\n",
      "a = hello\n",
      "b = olleh\n",
      "No, your text is not a palindrome \n"
     ]
    }
   ],
   "source": [
    "text = str(input(\"Hello, please input the text here: \"))\n",
    "a = text[0:]\n",
    "b = text[::-1]\n",
    "print(\"a =\", a)\n",
    "print(\"b =\", b)\n",
    "if a == b :\n",
    "    print(\"your text is palindrome\") \n",
    "else:\n",
    "    print(\"No, your text is not a palindrome \")"
   ]
  },
  {
   "cell_type": "markdown",
   "id": "064e003f",
   "metadata": {},
   "source": [
    "### 5.\n",
    "Write a program (using functions!) that asks the user for a long string containing multiple words. Print back to the user the same string, except with the words in backwards order. For example, say I type the string:\n",
    "  My name is Michele\n",
    "Then I would see the string:\n",
    "  Michele is name My"
   ]
  },
  {
   "cell_type": "code",
   "execution_count": 61,
   "id": "cfc53ed3",
   "metadata": {},
   "outputs": [
    {
     "name": "stdout",
     "output_type": "stream",
     "text": [
      "Hello, please input the text here: haha, this is fun\n",
      "fun is this haha,\n"
     ]
    }
   ],
   "source": [
    "text = str(input(\"Hello, please input the text here: \"))\n",
    "text_split = text.split()\n",
    "text_reverse = text_split[::-1]\n",
    "print(\" \".join(text_reverse))"
   ]
  },
  {
   "cell_type": "code",
   "execution_count": 62,
   "id": "46c900ff",
   "metadata": {},
   "outputs": [
    {
     "name": "stdout",
     "output_type": "stream",
     "text": [
      "fun is this haha,\n"
     ]
    }
   ],
   "source": [
    "print(\" \".join(text.split()[::-1]))"
   ]
  },
  {
   "cell_type": "code",
   "execution_count": 63,
   "id": "5c5b67dd",
   "metadata": {},
   "outputs": [
    {
     "name": "stdout",
     "output_type": "stream",
     "text": [
      "fun is this haha,\n"
     ]
    }
   ],
   "source": [
    "print(\" \".join(reversed(text.split())))"
   ]
  },
  {
   "cell_type": "code",
   "execution_count": null,
   "id": "cb917b12",
   "metadata": {},
   "outputs": [],
   "source": []
  }
 ],
 "metadata": {
  "kernelspec": {
   "display_name": "Python 3 (ipykernel)",
   "language": "python",
   "name": "python3"
  },
  "language_info": {
   "codemirror_mode": {
    "name": "ipython",
    "version": 3
   },
   "file_extension": ".py",
   "mimetype": "text/x-python",
   "name": "python",
   "nbconvert_exporter": "python",
   "pygments_lexer": "ipython3",
   "version": "3.9.12"
  }
 },
 "nbformat": 4,
 "nbformat_minor": 5
}
